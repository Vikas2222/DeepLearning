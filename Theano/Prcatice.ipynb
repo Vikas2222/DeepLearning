{
 "metadata": {
  "name": ""
 },
 "nbformat": 3,
 "nbformat_minor": 0,
 "worksheets": [
  {
   "cells": [
    {
     "cell_type": "markdown",
     "metadata": {},
     "source": [
      "Gradient (Derivation)"
     ]
    },
    {
     "cell_type": "code",
     "collapsed": false,
     "input": [
      ">>> import numpy\n",
      ">>> import theano\n",
      ">>> import theano.tensor as T\n",
      ">>> from theano import pp\n",
      ">>> x = T.dscalar('x')\n",
      ">>> y = (x ** 2) + (x ** 3)\n",
      ">>> gy = T.grad(y, x)\n",
      ">>> pp(gy)  # print out the gradient prior to optimization\n",
      "'((fill((x ** TensorConstant{2}), TensorConstant{1.0}) * TensorConstant{2}) * (x ** (TensorConstant{2} - TensorConstant{1})))'\n",
      ">>> f = theano.function([x], gy)\n",
      ">>> print f(4)\n",
      ">>> numpy.allclose(f(94.2), 188.4)\n",
      "\n",
      "'2x + 3x^2'\n",
      "f(2)"
     ],
     "language": "python",
     "metadata": {},
     "outputs": [
      {
       "output_type": "stream",
       "stream": "stdout",
       "text": [
        "56.0\n"
       ]
      },
      {
       "metadata": {},
       "output_type": "pyout",
       "prompt_number": 2,
       "text": [
        "array(16.0)"
       ]
      }
     ],
     "prompt_number": 2
    },
    {
     "cell_type": "code",
     "collapsed": false,
     "input": [
      "i = [[1,2],[3,4],[5,6]]\n",
      "j = [-1,1]\n",
      "\n",
      "i = numpy.matrix(i)\n",
      "j = numpy.matrix(j)\n",
      "print i,j\n",
      "\n",
      "o = numpy.multiply(i,j)\n",
      "x = i\n",
      "z = numpy.add(x,numpy.multiply((numpy.fliplr(x)-1),[[1, -1]]))\n",
      "print z\n",
      "\n",
      "#x = x+y-1 y = y-x+1"
     ],
     "language": "python",
     "metadata": {},
     "outputs": [
      {
       "output_type": "stream",
       "stream": "stdout",
       "text": [
        "[[1 2]\n",
        " [3 4]\n",
        " [5 6]] [[-1  1]]\n",
        "[[ 2  2]\n",
        " [ 6  2]\n",
        " [10  2]]\n"
       ]
      }
     ],
     "prompt_number": 10
    },
    {
     "cell_type": "code",
     "collapsed": false,
     "input": [
      "import theano."
     ],
     "language": "python",
     "metadata": {},
     "outputs": []
    }
   ],
   "metadata": {}
  }
 ]
}